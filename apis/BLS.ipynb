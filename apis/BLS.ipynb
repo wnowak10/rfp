{
 "cells": [
  {
   "cell_type": "code",
   "execution_count": 165,
   "metadata": {},
   "outputs": [],
   "source": [
    "import numpy as np\n",
    "import requests\n",
    "import json\n",
    "import pandas as pd\n",
    "import matplotlib.pyplot as plt"
   ]
  },
  {
   "cell_type": "code",
   "execution_count": 167,
   "metadata": {},
   "outputs": [
    {
     "data": {
      "text/plain": [
       "['sans-serif']"
      ]
     },
     "execution_count": 167,
     "metadata": {},
     "output_type": "execute_result"
    }
   ],
   "source": [
    "plt.rcParams['font.family']\n"
   ]
  },
  {
   "cell_type": "code",
   "execution_count": 11,
   "metadata": {},
   "outputs": [],
   "source": [
    "import math\n",
    "\n",
    "def bls_data(series_id, start_year, end_year):\n",
    "    '''\n",
    "    Inputs:\n",
    "    - series_ids: list of strings of series_ids or single id. only works for single right now\n",
    "    - start_date:  4 digit (eg 2000)\n",
    "    - end_date: 4 digit (eg 2010)\n",
    "    '''\n",
    "    key = \"4a0987d92b974131813039c3ca751276\"\n",
    "    headers = {'Content-type': 'application/json'}\n",
    "    \n",
    "    # function to get a df given an id and date range\n",
    "    def get_df(series_id, start_year, end_year):\n",
    "        data = json.dumps({\"seriesid\": series_id,\n",
    "                           \"startyear\": str(start_year),\n",
    "                           \"endyear\": str(end_year),\n",
    "                           'registrationkey': key})\n",
    "        p = requests.post('https://api.bls.gov/publicAPI/v2/timeseries/data/', data=data, headers=headers)\n",
    "        json_data = json.loads(p.text)\n",
    "#         print(json_data)\n",
    "        df = pd.DataFrame(columns=['year','months','value'])\n",
    "        for i, series in enumerate(json_data['Results']['series'][0]['data']):\n",
    "            df.loc[i] = [series['year'], series['period'], series['value']]\n",
    "        return df\n",
    "    \n",
    "    time_range = end_year - start_year\n",
    "    if time_range>10:\n",
    "        returned_dfs = []\n",
    "        start_stops = []\n",
    "        arange = np.arange(start_year, end_year, 9)\n",
    "        for i in range(len(arange) - 1):\n",
    "            start_stops.append((arange[i], arange[i+1]))\n",
    "        start_stops.append( (arange[i+1], end_year ) )\n",
    "        for increments in start_stops:\n",
    "            returned_dfs.append( get_df(series_id, increments[0], increments[1]) )\n",
    "        final_df =  pd.concat(returned_dfs)\n",
    "        return final_df.sort_values(by = ['year','months'])\n",
    "    else:\n",
    "        return get_df(series_id, start_year, end_year)\n",
    "    "
   ]
  },
  {
   "cell_type": "code",
   "execution_count": 12,
   "metadata": {},
   "outputs": [],
   "source": [
    "def format_dates(df):\n",
    "    '''\n",
    "    take in dataframe from BLS API. return cleaned date col\n",
    "    '''\n",
    "    df['month']= np.where(\n",
    "                df['months'] == 'M01', 1,\n",
    "                    np.where(df['months'] == 'M02', 2,\n",
    "                    np.where(df['months'] == 'M03', 3, \n",
    "                    np.where(df['months'] == 'M04', 4, \n",
    "                    np.where(df['months'] == 'M05', 5, \n",
    "                    np.where(df['months'] == 'M06', 6, \n",
    "                    np.where(df['months'] == 'M07', 7, \n",
    "                    np.where(df['months'] == 'M08', 8,\n",
    "                    np.where(df['months'] == 'M09', 9, \n",
    "                    np.where(df['months'] == 'M10', 10, \n",
    "                    np.where(df['months'] == 'M11', 11,\n",
    "                    np.where(df['months'] == 'M12', 12, 'hi'                            \n",
    "                          ))))))))))))\n",
    "    df['day'] = 1\n",
    "    df['date'] = pd.to_datetime(df[['year', 'month','day']])\n",
    "    df.sort_values(by='date', ascending = True, inplace = True)\n",
    "    df.set_index('date', inplace = True)\n",
    "    return df\n",
    "#     return df[['date', 'value']]"
   ]
  },
  {
   "cell_type": "markdown",
   "metadata": {},
   "source": [
    "# UNEMPLOYMENT RATE"
   ]
  },
  {
   "cell_type": "code",
   "execution_count": 13,
   "metadata": {},
   "outputs": [],
   "source": [
    "lns = bls_data([\"LNS14000000\"], 2006, 2017)"
   ]
  },
  {
   "cell_type": "code",
   "execution_count": 14,
   "metadata": {},
   "outputs": [],
   "source": [
    "ddff = format_dates(lns)"
   ]
  },
  {
   "cell_type": "code",
   "execution_count": 15,
   "metadata": {},
   "outputs": [
    {
     "data": {
      "text/html": [
       "<div>\n",
       "<style scoped>\n",
       "    .dataframe tbody tr th:only-of-type {\n",
       "        vertical-align: middle;\n",
       "    }\n",
       "\n",
       "    .dataframe tbody tr th {\n",
       "        vertical-align: top;\n",
       "    }\n",
       "\n",
       "    .dataframe thead th {\n",
       "        text-align: right;\n",
       "    }\n",
       "</style>\n",
       "<table border=\"1\" class=\"dataframe\">\n",
       "  <thead>\n",
       "    <tr style=\"text-align: right;\">\n",
       "      <th></th>\n",
       "      <th>year</th>\n",
       "      <th>months</th>\n",
       "      <th>value</th>\n",
       "      <th>month</th>\n",
       "      <th>day</th>\n",
       "    </tr>\n",
       "    <tr>\n",
       "      <th>date</th>\n",
       "      <th></th>\n",
       "      <th></th>\n",
       "      <th></th>\n",
       "      <th></th>\n",
       "      <th></th>\n",
       "    </tr>\n",
       "  </thead>\n",
       "  <tbody>\n",
       "    <tr>\n",
       "      <th>2006-01-01</th>\n",
       "      <td>2006</td>\n",
       "      <td>M01</td>\n",
       "      <td>4.7</td>\n",
       "      <td>1</td>\n",
       "      <td>1</td>\n",
       "    </tr>\n",
       "    <tr>\n",
       "      <th>2006-02-01</th>\n",
       "      <td>2006</td>\n",
       "      <td>M02</td>\n",
       "      <td>4.8</td>\n",
       "      <td>2</td>\n",
       "      <td>1</td>\n",
       "    </tr>\n",
       "    <tr>\n",
       "      <th>2006-03-01</th>\n",
       "      <td>2006</td>\n",
       "      <td>M03</td>\n",
       "      <td>4.7</td>\n",
       "      <td>3</td>\n",
       "      <td>1</td>\n",
       "    </tr>\n",
       "    <tr>\n",
       "      <th>2006-04-01</th>\n",
       "      <td>2006</td>\n",
       "      <td>M04</td>\n",
       "      <td>4.7</td>\n",
       "      <td>4</td>\n",
       "      <td>1</td>\n",
       "    </tr>\n",
       "    <tr>\n",
       "      <th>2006-05-01</th>\n",
       "      <td>2006</td>\n",
       "      <td>M05</td>\n",
       "      <td>4.6</td>\n",
       "      <td>5</td>\n",
       "      <td>1</td>\n",
       "    </tr>\n",
       "  </tbody>\n",
       "</table>\n",
       "</div>"
      ],
      "text/plain": [
       "            year months value month  day\n",
       "date                                    \n",
       "2006-01-01  2006    M01   4.7     1    1\n",
       "2006-02-01  2006    M02   4.8     2    1\n",
       "2006-03-01  2006    M03   4.7     3    1\n",
       "2006-04-01  2006    M04   4.7     4    1\n",
       "2006-05-01  2006    M05   4.6     5    1"
      ]
     },
     "execution_count": 15,
     "metadata": {},
     "output_type": "execute_result"
    }
   ],
   "source": [
    "ddff.head()"
   ]
  },
  {
   "cell_type": "code",
   "execution_count": 73,
   "metadata": {},
   "outputs": [],
   "source": [
    "# ddff[ddff.index == ddff.index.max()]['value'][0]+1"
   ]
  },
  {
   "cell_type": "code",
   "execution_count": 74,
   "metadata": {},
   "outputs": [
    {
     "data": {
      "image/png": "[encoded data removed]",
      "text/plain": [
       "<matplotlib.figure.Figure at 0x107f3cb70>"
      ]
     },
     "metadata": {},
     "output_type": "display_data"
    }
   ],
   "source": [
    "plt.rcParams.update({'font.size': 22})\n",
    "\n",
    "fig = plt.figure()\n",
    "fig.set_size_inches(12, 6, forward = True)\n",
    "# plt.figure(figsize=(50,50))\n",
    "\n",
    "fig.suptitle('Unemployment rate', fontsize=24, fontweight='bold')\n",
    "\n",
    "ax = fig.add_subplot(111)\n",
    "\n",
    "ax.plot(ddff.value, linewidth=5.0)\n",
    "\n",
    "# plt.axvline('2008-9-15', linewidth=3.0, color = 'black')\n",
    "# plt.text('2009-1-1',4.5,'< Lehman collapse') #,rotation=90)\n",
    "ax.plot(ddff[ddff.index == ddff.index.max()].index, ddff[ddff.index == ddff.index.max()]['value'], 'bo', markersize=12)\n",
    "ax.text(ddff[ddff.index == ddff.index.max()].index, 4.5, str(ddff[ddff.index == ddff.index.max()]['value'][0])+'%')\n",
    "\n",
    "\n",
    "# ax.set_xlabel('Year')\n",
    "# ax.set_ylabel('Unemployment rate')\n",
    "plt.yticks( [4,5,6,7,8,9,10], ('4%', '5%', '6%', '7%', '8%','9%','10%' ))\n",
    "\n",
    "plt.show()\n",
    "\n",
    "fig.savefig('unemp1.png', dpi=1000)"
   ]
  },
  {
   "cell_type": "markdown",
   "metadata": {},
   "source": [
    "# WITH PLOTLY"
   ]
  },
  {
   "cell_type": "code",
   "execution_count": 20,
   "metadata": {},
   "outputs": [
    {
     "data": {
      "text/plain": [
       "Timestamp('2017-12-01 00:00:00')"
      ]
     },
     "execution_count": 20,
     "metadata": {},
     "output_type": "execute_result"
    }
   ],
   "source": [
    "ddff.index.max()"
   ]
  },
  {
   "cell_type": "code",
   "execution_count": 30,
   "metadata": {},
   "outputs": [
    {
     "data": {
      "text/html": [
       "<iframe id=\"igraph\" scrolling=\"no\" style=\"border:none;\" seamless=\"seamless\" src=\"https://plot.ly/~wnowak10/92.embed\" height=\"525px\" width=\"100%\"></iframe>"
      ],
      "text/plain": [
       "<plotly.tools.PlotlyDisplay object>"
      ]
     },
     "execution_count": 30,
     "metadata": {},
     "output_type": "execute_result"
    }
   ],
   "source": [
    "import plotly.plotly as py\n",
    "import plotly.graph_objs as go \n",
    "\n",
    "from datetime import datetime\n",
    "import pandas_datareader.data as web\n",
    "\n",
    "# df = web.DataReader(\"aapl\", 'yahoo',\n",
    "#                     datetime(2007, 10, 1),\n",
    "#                     datetime(2009, 4, 1))\n",
    "\n",
    "trace = go.Scatter(x=ddff.index,\n",
    "                   y=ddff.value,\n",
    "                   line = dict(\n",
    "        color = ('rgb(22, 96, 167)'),\n",
    "        width = 7,))\n",
    "\n",
    "trace2 = go.Scatter(\n",
    "    x=[ddff.index.max()],\n",
    "    y=[9],\n",
    "    mode='markers+text',\n",
    "    name='Markers and Text',\n",
    "    text=['Text F'],\n",
    "    textposition='bottom'\n",
    ")\n",
    "\n",
    "data = [trace]\n",
    "layout = dict(\n",
    "    title='Unemployment over time',\n",
    "#     title='Global Font',\n",
    "    font=dict(size=18, color='black'), #family='Courier New, monospace',\n",
    "#     xaxis=dict(\n",
    "#         rangeselector=dict(\n",
    "#             buttons=list([\n",
    "#                 dict(count=1,\n",
    "#                      label='1m',\n",
    "#                      step='month',\n",
    "#                      stepmode='backward'),\n",
    "#                 dict(count=6,\n",
    "#                      label='6m',\n",
    "#                      step='month',\n",
    "#                      stepmode='backward'),\n",
    "#                 dict(count=1,\n",
    "#                     label='YTD',\n",
    "#                     step='year',\n",
    "#                     stepmode='todate'),\n",
    "#                 dict(count=1,\n",
    "#                     label='1y',\n",
    "#                     step='year',\n",
    "#                     stepmode='backward'),\n",
    "#                 dict(step='all')\n",
    "#             ])\n",
    "#         ),\n",
    "#         rangeslider=dict(),\n",
    "#         type='date'\n",
    "#     )\n",
    ")\n",
    "\n",
    "fig = dict(data=data, layout=layout)\n",
    "py.iplot(fig)"
   ]
  },
  {
   "cell_type": "code",
   "execution_count": null,
   "metadata": {},
   "outputs": [],
   "source": []
  },
  {
   "cell_type": "code",
   "execution_count": null,
   "metadata": {},
   "outputs": [],
   "source": []
  },
  {
   "cell_type": "code",
   "execution_count": null,
   "metadata": {},
   "outputs": [],
   "source": []
  },
  {
   "cell_type": "markdown",
   "metadata": {},
   "source": [
    "# LABOR FORCE PARTICIPATION"
   ]
  },
  {
   "cell_type": "code",
   "execution_count": 57,
   "metadata": {},
   "outputs": [],
   "source": [
    "# LNS11300000\n",
    "# Labor force status:  Civilian labor force participation rate\n",
    "lfpr = bls_data([\"LNS11300000\"], 2006, 2017)\n",
    "lfpr_df = format_dates(lfpr)"
   ]
  },
  {
   "cell_type": "code",
   "execution_count": 58,
   "metadata": {},
   "outputs": [
    {
     "data": {
      "text/html": [
       "<div>\n",
       "<style scoped>\n",
       "    .dataframe tbody tr th:only-of-type {\n",
       "        vertical-align: middle;\n",
       "    }\n",
       "\n",
       "    .dataframe tbody tr th {\n",
       "        vertical-align: top;\n",
       "    }\n",
       "\n",
       "    .dataframe thead th {\n",
       "        text-align: right;\n",
       "    }\n",
       "</style>\n",
       "<table border=\"1\" class=\"dataframe\">\n",
       "  <thead>\n",
       "    <tr style=\"text-align: right;\">\n",
       "      <th></th>\n",
       "      <th>year</th>\n",
       "      <th>months</th>\n",
       "      <th>value</th>\n",
       "      <th>month</th>\n",
       "      <th>day</th>\n",
       "    </tr>\n",
       "    <tr>\n",
       "      <th>date</th>\n",
       "      <th></th>\n",
       "      <th></th>\n",
       "      <th></th>\n",
       "      <th></th>\n",
       "      <th></th>\n",
       "    </tr>\n",
       "  </thead>\n",
       "  <tbody>\n",
       "    <tr>\n",
       "      <th>2006-01-01</th>\n",
       "      <td>2006</td>\n",
       "      <td>M01</td>\n",
       "      <td>66.0</td>\n",
       "      <td>1</td>\n",
       "      <td>1</td>\n",
       "    </tr>\n",
       "    <tr>\n",
       "      <th>2006-02-01</th>\n",
       "      <td>2006</td>\n",
       "      <td>M02</td>\n",
       "      <td>66.1</td>\n",
       "      <td>2</td>\n",
       "      <td>1</td>\n",
       "    </tr>\n",
       "    <tr>\n",
       "      <th>2006-03-01</th>\n",
       "      <td>2006</td>\n",
       "      <td>M03</td>\n",
       "      <td>66.2</td>\n",
       "      <td>3</td>\n",
       "      <td>1</td>\n",
       "    </tr>\n",
       "    <tr>\n",
       "      <th>2006-04-01</th>\n",
       "      <td>2006</td>\n",
       "      <td>M04</td>\n",
       "      <td>66.1</td>\n",
       "      <td>4</td>\n",
       "      <td>1</td>\n",
       "    </tr>\n",
       "    <tr>\n",
       "      <th>2006-05-01</th>\n",
       "      <td>2006</td>\n",
       "      <td>M05</td>\n",
       "      <td>66.1</td>\n",
       "      <td>5</td>\n",
       "      <td>1</td>\n",
       "    </tr>\n",
       "  </tbody>\n",
       "</table>\n",
       "</div>"
      ],
      "text/plain": [
       "            year months value month  day\n",
       "date                                    \n",
       "2006-01-01  2006    M01  66.0     1    1\n",
       "2006-02-01  2006    M02  66.1     2    1\n",
       "2006-03-01  2006    M03  66.2     3    1\n",
       "2006-04-01  2006    M04  66.1     4    1\n",
       "2006-05-01  2006    M05  66.1     5    1"
      ]
     },
     "execution_count": 58,
     "metadata": {},
     "output_type": "execute_result"
    }
   ],
   "source": [
    "lfpr.head()"
   ]
  },
  {
   "cell_type": "code",
   "execution_count": 59,
   "metadata": {},
   "outputs": [],
   "source": [
    "lfpr['value'] = pd.to_numeric(lfpr['value'])"
   ]
  },
  {
   "cell_type": "code",
   "execution_count": 60,
   "metadata": {},
   "outputs": [
    {
     "data": {
      "text/html": [
       "<div>\n",
       "<style scoped>\n",
       "    .dataframe tbody tr th:only-of-type {\n",
       "        vertical-align: middle;\n",
       "    }\n",
       "\n",
       "    .dataframe tbody tr th {\n",
       "        vertical-align: top;\n",
       "    }\n",
       "\n",
       "    .dataframe thead th {\n",
       "        text-align: right;\n",
       "    }\n",
       "</style>\n",
       "<table border=\"1\" class=\"dataframe\">\n",
       "  <thead>\n",
       "    <tr style=\"text-align: right;\">\n",
       "      <th></th>\n",
       "      <th>year</th>\n",
       "      <th>months</th>\n",
       "      <th>value</th>\n",
       "      <th>month</th>\n",
       "      <th>day</th>\n",
       "    </tr>\n",
       "    <tr>\n",
       "      <th>date</th>\n",
       "      <th></th>\n",
       "      <th></th>\n",
       "      <th></th>\n",
       "      <th></th>\n",
       "      <th></th>\n",
       "    </tr>\n",
       "  </thead>\n",
       "  <tbody>\n",
       "    <tr>\n",
       "      <th>2017-12-01</th>\n",
       "      <td>2017</td>\n",
       "      <td>M12</td>\n",
       "      <td>62.7</td>\n",
       "      <td>12</td>\n",
       "      <td>1</td>\n",
       "    </tr>\n",
       "  </tbody>\n",
       "</table>\n",
       "</div>"
      ],
      "text/plain": [
       "            year months  value month  day\n",
       "date                                     \n",
       "2017-12-01  2017    M12   62.7    12    1"
      ]
     },
     "execution_count": 60,
     "metadata": {},
     "output_type": "execute_result"
    }
   ],
   "source": [
    "lfpr[lfpr.index == lfpr.index.max()]"
   ]
  },
  {
   "cell_type": "code",
   "execution_count": 61,
   "metadata": {},
   "outputs": [],
   "source": [
    "most_recent = lfpr[lfpr.index == lfpr.index.max()]['value']"
   ]
  },
  {
   "cell_type": "code",
   "execution_count": 62,
   "metadata": {},
   "outputs": [
    {
     "data": {
      "text/plain": [
       "63.7"
      ]
     },
     "execution_count": 62,
     "metadata": {},
     "output_type": "execute_result"
    }
   ],
   "source": [
    "(most_recent+1)[0]"
   ]
  },
  {
   "cell_type": "code",
   "execution_count": 63,
   "metadata": {},
   "outputs": [],
   "source": [
    "# int(lfpr[lfpr.index == lfpr.index.max()]['value'])+1"
   ]
  },
  {
   "cell_type": "code",
   "execution_count": 70,
   "metadata": {},
   "outputs": [
    {
     "data": {
      "image/png": "[encoded data removed]",
      "text/plain": [
       "<matplotlib.figure.Figure at 0x157afff28>"
      ]
     },
     "metadata": {},
     "output_type": "display_data"
    }
   ],
   "source": [
    "plt.rcParams.update({'font.size': 22})\n",
    "\n",
    "fig = plt.figure()\n",
    "fig.set_size_inches(8, 10, forward = True)\n",
    "# plt.figure(figsize=(50,50))\n",
    "\n",
    "fig.suptitle('Civilian labor force participation rate', fontsize=24, fontweight='bold')\n",
    "\n",
    "ax = fig.add_subplot(111)\n",
    "\n",
    "ax.plot(lfpr_df.value, linewidth=5.0)\n",
    "\n",
    "# plt.axvline('2008-9-15', linewidth=3.0, color = 'black')\n",
    "# plt.text('2009-1-1',4.5,'< Lehman collapse') #,rotation=90)\n",
    "\n",
    "# ax.set_xlabel('Year')\n",
    "# ax.set_ylabel('LFPR')\n",
    "plt.yticks( [63,64,65,66], ('63%', '64%', '65%', '66%', ))\n",
    "ax.plot(lfpr[lfpr.index == lfpr.index.max()].index, lfpr[lfpr.index == lfpr.index.max()]['value'], 'bo', markersize=12)\n",
    "ax.text('2016-01-01', (most_recent+.5)[0], str(most_recent[0])+'%')\n",
    "# plt.tight_layout()\n",
    "plt.show()\n",
    "\n",
    "fig.savefig('lfpr.png', dpi=1000)"
   ]
  },
  {
   "cell_type": "markdown",
   "metadata": {},
   "source": [
    "# EMPLOYMENT TO POPULATION"
   ]
  },
  {
   "cell_type": "code",
   "execution_count": 72,
   "metadata": {},
   "outputs": [
    {
     "data": {
      "image/png": "[encoded data removed]",
      "text/plain": [
       "<matplotlib.figure.Figure at 0x122d99898>"
      ]
     },
     "metadata": {},
     "output_type": "display_data"
    }
   ],
   "source": [
    "# LNS12300000\n",
    "# (Seas) Employment-Population Ratio\n",
    "etp = bls_data([\"LNS12300000\"], 2006, 2017)\n",
    "etp_df = format_dates(etp)\n",
    "etp_df['value'] = pd.to_numeric(etp_df['value'])\n",
    "most_recent_etp = etp_df[etp_df.index == etp_df.index.max()]['value']\n",
    "\n",
    "plt.rcParams.update({'font.size': 22})\n",
    "\n",
    "fig = plt.figure()\n",
    "fig.set_size_inches(8, 10, forward = True)\n",
    "# plt.figure(figsize=(50,50))\n",
    "\n",
    "fig.suptitle('Employment to population ratio', fontsize=24, fontweight='bold')\n",
    "\n",
    "ax = fig.add_subplot(111)\n",
    "\n",
    "ax.plot(etp_df.value, linewidth=5.0)\n",
    "\n",
    "# plt.axvline('2008-9-15', linewidth=3.0, color = 'black')\n",
    "# plt.text('2009-1-1',4.5,'< Lehman collapse') #,rotation=90)\n",
    "\n",
    "# ax.set_xlabel('Year')\n",
    "# ax.set_ylabel('Employment:Population')\n",
    "plt.yticks( [58,59,60,61,62,63], ('58%','59%','60%','61%','62%','63%' ))\n",
    "ax.plot(lfpr[etp_df.index == etp_df.index.max()].index, etp_df[etp_df.index == etp_df.index.max()]['value'], 'bo', markersize=12)\n",
    "ax.text(lfpr[etp_df.index == etp_df.index.max()].index, (most_recent_etp+.35)[0], str(most_recent_etp[0])+'%')\n",
    "\n",
    "plt.show()\n",
    "\n",
    "fig.savefig('epr.png', dpi=1000)"
   ]
  },
  {
   "cell_type": "markdown",
   "metadata": {},
   "source": [
    "# LNS12300000"
   ]
  },
  {
   "cell_type": "code",
   "execution_count": 99,
   "metadata": {},
   "outputs": [],
   "source": [
    "lf = bls_data([\"LNS15000000\"], 2007, 2017)\n",
    "# https://data.bls.gov/timeseries/LNS15000000\n",
    "# 16 years and over\n",
    "df_lf = format_dates(lf)\n",
    "\n",
    "pop = bls_data([\"LNS10000000\"], 2007, 2017)\n",
    "# :  Civilian noninstitutional population\n",
    "pop_df = format_dates(pop)\n",
    "\n",
    "merged_df = pop_df.join(df_lf, lsuffix = 'l')\n",
    "merged_df[['value','valuel']] = merged_df[['value','valuel']].apply(pd.to_numeric)"
   ]
  },
  {
   "cell_type": "code",
   "execution_count": 100,
   "metadata": {},
   "outputs": [
    {
     "data": {
      "text/html": [
       "<div>\n",
       "<style scoped>\n",
       "    .dataframe tbody tr th:only-of-type {\n",
       "        vertical-align: middle;\n",
       "    }\n",
       "\n",
       "    .dataframe tbody tr th {\n",
       "        vertical-align: top;\n",
       "    }\n",
       "\n",
       "    .dataframe thead th {\n",
       "        text-align: right;\n",
       "    }\n",
       "</style>\n",
       "<table border=\"1\" class=\"dataframe\">\n",
       "  <thead>\n",
       "    <tr style=\"text-align: right;\">\n",
       "      <th></th>\n",
       "      <th>yearl</th>\n",
       "      <th>monthsl</th>\n",
       "      <th>valuel</th>\n",
       "      <th>monthl</th>\n",
       "      <th>dayl</th>\n",
       "      <th>year</th>\n",
       "      <th>months</th>\n",
       "      <th>value</th>\n",
       "      <th>month</th>\n",
       "      <th>day</th>\n",
       "    </tr>\n",
       "    <tr>\n",
       "      <th>date</th>\n",
       "      <th></th>\n",
       "      <th></th>\n",
       "      <th></th>\n",
       "      <th></th>\n",
       "      <th></th>\n",
       "      <th></th>\n",
       "      <th></th>\n",
       "      <th></th>\n",
       "      <th></th>\n",
       "      <th></th>\n",
       "    </tr>\n",
       "  </thead>\n",
       "  <tbody>\n",
       "    <tr>\n",
       "      <th>2007-01-01</th>\n",
       "      <td>2007</td>\n",
       "      <td>M01</td>\n",
       "      <td>230650</td>\n",
       "      <td>1</td>\n",
       "      <td>1</td>\n",
       "      <td>2007</td>\n",
       "      <td>M01</td>\n",
       "      <td>77506</td>\n",
       "      <td>1</td>\n",
       "      <td>1</td>\n",
       "    </tr>\n",
       "    <tr>\n",
       "      <th>2007-02-01</th>\n",
       "      <td>2007</td>\n",
       "      <td>M02</td>\n",
       "      <td>230834</td>\n",
       "      <td>2</td>\n",
       "      <td>1</td>\n",
       "      <td>2007</td>\n",
       "      <td>M02</td>\n",
       "      <td>77851</td>\n",
       "      <td>2</td>\n",
       "      <td>1</td>\n",
       "    </tr>\n",
       "    <tr>\n",
       "      <th>2007-03-01</th>\n",
       "      <td>2007</td>\n",
       "      <td>M03</td>\n",
       "      <td>231034</td>\n",
       "      <td>3</td>\n",
       "      <td>1</td>\n",
       "      <td>2007</td>\n",
       "      <td>M03</td>\n",
       "      <td>77982</td>\n",
       "      <td>3</td>\n",
       "      <td>1</td>\n",
       "    </tr>\n",
       "    <tr>\n",
       "      <th>2007-04-01</th>\n",
       "      <td>2007</td>\n",
       "      <td>M04</td>\n",
       "      <td>231253</td>\n",
       "      <td>4</td>\n",
       "      <td>1</td>\n",
       "      <td>2007</td>\n",
       "      <td>M04</td>\n",
       "      <td>78818</td>\n",
       "      <td>4</td>\n",
       "      <td>1</td>\n",
       "    </tr>\n",
       "    <tr>\n",
       "      <th>2007-05-01</th>\n",
       "      <td>2007</td>\n",
       "      <td>M05</td>\n",
       "      <td>231480</td>\n",
       "      <td>5</td>\n",
       "      <td>1</td>\n",
       "      <td>2007</td>\n",
       "      <td>M05</td>\n",
       "      <td>78810</td>\n",
       "      <td>5</td>\n",
       "      <td>1</td>\n",
       "    </tr>\n",
       "  </tbody>\n",
       "</table>\n",
       "</div>"
      ],
      "text/plain": [
       "           yearl monthsl  valuel monthl  dayl  year months  value month  day\n",
       "date                                                                        \n",
       "2007-01-01  2007     M01  230650      1     1  2007    M01  77506     1    1\n",
       "2007-02-01  2007     M02  230834      2     1  2007    M02  77851     2    1\n",
       "2007-03-01  2007     M03  231034      3     1  2007    M03  77982     3    1\n",
       "2007-04-01  2007     M04  231253      4     1  2007    M04  78818     4    1\n",
       "2007-05-01  2007     M05  231480      5     1  2007    M05  78810     5    1"
      ]
     },
     "execution_count": 100,
     "metadata": {},
     "output_type": "execute_result"
    }
   ],
   "source": [
    "merged_df.head()"
   ]
  },
  {
   "cell_type": "code",
   "execution_count": 102,
   "metadata": {},
   "outputs": [
    {
     "data": {
      "image/png": "[encoded data removed]",
      "text/plain": [
       "<matplotlib.figure.Figure at 0x11afbb470>"
      ]
     },
     "metadata": {},
     "output_type": "display_data"
    }
   ],
   "source": [
    "\n",
    "# fig = plt.figure()\n",
    "# fig.set_size_inches(12, 6, forward = True)\n",
    "\n",
    "# fig.suptitle('Not in labor force', fontsize=14, fontweight='bold')\n",
    "\n",
    "# ax = fig.add_subplot(111)\n",
    "# ax.plot(merged_df.value / merged_df.valuel)\n",
    "\n",
    "# ax.set_xlabel('Year')\n",
    "# ax.set_ylabel('Civilian population')\n",
    "# plt.show()\n",
    "\n",
    "# fig.savefig('test2png.png', dpi=100)\n",
    "\n",
    "\n",
    "\n",
    "\n",
    "plt.rcParams.update({'font.size': 22})\n",
    "\n",
    "fig = plt.figure()\n",
    "fig.set_size_inches(12, 6, forward = True)\n",
    "# plt.figure(figsize=(50,50))\n",
    "\n",
    "fig.suptitle('Civilian labor force participation rate', fontsize=24, fontweight='bold')\n",
    "\n",
    "ax = fig.add_subplot(111)\n",
    "ax.plot(merged_df.value / merged_df.valuel, linewidth=5.0)\n",
    "\n",
    "# ax.plot(lfpr_df.value, linewidth=5.0)\n",
    "\n",
    "# plt.axvline('2008-9-15', linewidth=3.0, color = 'black')\n",
    "# plt.text('2009-1-1',4.5,'< Lehman collapse') #,rotation=90)\n",
    "ax.set_ylabel('Civilian population')\n",
    "\n",
    "# ax.set_xlabel('Year')\n",
    "# ax.set_ylabel('LFPR')\n",
    "# plt.yticks( [63,64,65,66], ('4%', '64%', '65%', '66%', ))\n",
    "# ax.plot(lfpr[lfpr.index == lfpr.index.max()].index, lfpr[lfpr.index == lfpr.index.max()]['value'], 'bo', markersize=12)\n",
    "# ax.text(lfpr[lfpr.index == lfpr.index.max()].index, (most_recent+.35)[0], str(most_recent[0])+'%')\n",
    "\n",
    "plt.show()\n",
    "\n",
    "fig.savefig('lfpr.png', dpi=1000)"
   ]
  },
  {
   "cell_type": "markdown",
   "metadata": {},
   "source": [
    "# MEDIAN EARNINGS WEEKLY"
   ]
  },
  {
   "cell_type": "code",
   "execution_count": 132,
   "metadata": {},
   "outputs": [],
   "source": [
    "med_earn = pd.read_csv('../Desktop/LES1252881600Q.csv', sep = ',')\n",
    "# https://fred.stlouisfed.org/series/LES1252881600Q\n",
    "med_earn['DATE'] = pd.to_datetime(med_earn['DATE']) \n",
    "med_earn.set_index(med_earn['DATE'], inplace = True)"
   ]
  },
  {
   "cell_type": "code",
   "execution_count": 133,
   "metadata": {},
   "outputs": [
    {
     "data": {
      "text/html": [
       "<div>\n",
       "<style scoped>\n",
       "    .dataframe tbody tr th:only-of-type {\n",
       "        vertical-align: middle;\n",
       "    }\n",
       "\n",
       "    .dataframe tbody tr th {\n",
       "        vertical-align: top;\n",
       "    }\n",
       "\n",
       "    .dataframe thead th {\n",
       "        text-align: right;\n",
       "    }\n",
       "</style>\n",
       "<table border=\"1\" class=\"dataframe\">\n",
       "  <thead>\n",
       "    <tr style=\"text-align: right;\">\n",
       "      <th></th>\n",
       "      <th>DATE</th>\n",
       "      <th>LES1252881600Q</th>\n",
       "    </tr>\n",
       "    <tr>\n",
       "      <th>DATE</th>\n",
       "      <th></th>\n",
       "      <th></th>\n",
       "    </tr>\n",
       "  </thead>\n",
       "  <tbody>\n",
       "    <tr>\n",
       "      <th>1979-01-01</th>\n",
       "      <td>1979-01-01</td>\n",
       "      <td>335</td>\n",
       "    </tr>\n",
       "    <tr>\n",
       "      <th>1979-04-01</th>\n",
       "      <td>1979-04-01</td>\n",
       "      <td>335</td>\n",
       "    </tr>\n",
       "    <tr>\n",
       "      <th>1979-07-01</th>\n",
       "      <td>1979-07-01</td>\n",
       "      <td>330</td>\n",
       "    </tr>\n",
       "    <tr>\n",
       "      <th>1979-10-01</th>\n",
       "      <td>1979-10-01</td>\n",
       "      <td>326</td>\n",
       "    </tr>\n",
       "    <tr>\n",
       "      <th>1980-01-01</th>\n",
       "      <td>1980-01-01</td>\n",
       "      <td>321</td>\n",
       "    </tr>\n",
       "  </tbody>\n",
       "</table>\n",
       "</div>"
      ],
      "text/plain": [
       "                 DATE  LES1252881600Q\n",
       "DATE                                 \n",
       "1979-01-01 1979-01-01             335\n",
       "1979-04-01 1979-04-01             335\n",
       "1979-07-01 1979-07-01             330\n",
       "1979-10-01 1979-10-01             326\n",
       "1980-01-01 1980-01-01             321"
      ]
     },
     "execution_count": 133,
     "metadata": {},
     "output_type": "execute_result"
    }
   ],
   "source": [
    "med_earn.head()"
   ]
  },
  {
   "cell_type": "code",
   "execution_count": 143,
   "metadata": {},
   "outputs": [
    {
     "data": {
      "text/plain": [
       "DATE\n",
       "2017-10-01    345\n",
       "Name: LES1252881600Q, dtype: int64"
      ]
     },
     "execution_count": 143,
     "metadata": {},
     "output_type": "execute_result"
    }
   ],
   "source": [
    "med_earn[med_earn.index == med_earn.index.max()]['LES1252881600Q']"
   ]
  },
  {
   "cell_type": "code",
   "execution_count": 154,
   "metadata": {},
   "outputs": [
    {
     "data": {
      "image/png": "[encoded data removed]",
      "text/plain": [
       "<matplotlib.figure.Figure at 0x11af6a278>"
      ]
     },
     "metadata": {},
     "output_type": "display_data"
    }
   ],
   "source": [
    "\n",
    "plt.rcParams.update({'font.size': 22})\n",
    "fig = plt.figure()\n",
    "fig.set_size_inches(8, 10, forward = True)\n",
    "\n",
    "fig.suptitle('Low progress in median earnings', fontsize=24, fontweight='bold')\n",
    "\n",
    "ax = fig.add_subplot(111)\n",
    "ax.plot(med_earn[med_earn['DATE'] > '1999-01-01'].LES1252881600Q, linewidth=5.0)\n",
    "\n",
    "ax.set_ylabel('Median weekly earnings')\n",
    "\n",
    "# ax.set_xlabel('Year')\n",
    "# ax.set_ylabel('LFPR')\n",
    "# plt.yticks( [63,64,65,66], ('4%', '64%', '65%', '66%', ))\n",
    "ax.plot(lfpr[med_earn.index == med_earn.index.max()].index, med_earn[med_earn.index == med_earn.index.max()]['LES1252881600Q'], 'bo', markersize=12)\n",
    "ax.text(lfpr[med_earn.index == med_earn.index.max()].index, med_earn[med_earn.index == med_earn.index.max()]['LES1252881600Q']-2, '$'+str(med_earn[med_earn.index == med_earn.index.max()]['LES1252881600Q'][0]))\n",
    "ax.xaxis_date()\n",
    "fig.autofmt_xdate()\n",
    "\n",
    "\n",
    "plt.show()\n",
    "fig.savefig('med_earn.png', dpi=1000)"
   ]
  },
  {
   "cell_type": "markdown",
   "metadata": {},
   "source": [
    "# REAL MEDIAN INCOME"
   ]
  },
  {
   "cell_type": "code",
   "execution_count": 78,
   "metadata": {},
   "outputs": [
    {
     "name": "stdout",
     "output_type": "stream",
     "text": [
      "bls graphing.ipynb   interaction.ipynb    unemp1.png\r\n",
      "educpng.png          lfpr.png             wage_prod.png\r\n",
      "epr.png              med_earn.png         wage_prod_gap.ipynb\r\n",
      "fred_api.ipynb       test3png.png\r\n",
      "income_share.ipynb   ue_spell.png\r\n"
     ]
    }
   ],
   "source": [
    "ls"
   ]
  },
  {
   "cell_type": "code",
   "execution_count": 85,
   "metadata": {},
   "outputs": [],
   "source": [
    "rmi = pd.read_csv('../Desktop/MEHOINUSA672N.csv')\n",
    "                 \n",
    "rmi['DATE'] = pd.to_datetime(rmi['DATE'])\n",
    "# ed.sort_values(by = 'DATE', ascending = True, inplace = True)\n",
    "rmi.set_index('DATE', inplace = True, drop = False)"
   ]
  },
  {
   "cell_type": "code",
   "execution_count": 87,
   "metadata": {},
   "outputs": [
    {
     "data": {
      "text/html": [
       "<div>\n",
       "<style scoped>\n",
       "    .dataframe tbody tr th:only-of-type {\n",
       "        vertical-align: middle;\n",
       "    }\n",
       "\n",
       "    .dataframe tbody tr th {\n",
       "        vertical-align: top;\n",
       "    }\n",
       "\n",
       "    .dataframe thead th {\n",
       "        text-align: right;\n",
       "    }\n",
       "</style>\n",
       "<table border=\"1\" class=\"dataframe\">\n",
       "  <thead>\n",
       "    <tr style=\"text-align: right;\">\n",
       "      <th></th>\n",
       "      <th>DATE</th>\n",
       "      <th>MEHOINUSA672N</th>\n",
       "    </tr>\n",
       "    <tr>\n",
       "      <th>DATE</th>\n",
       "      <th></th>\n",
       "      <th></th>\n",
       "    </tr>\n",
       "  </thead>\n",
       "  <tbody>\n",
       "    <tr>\n",
       "      <th>1984-01-01</th>\n",
       "      <td>1984-01-01</td>\n",
       "      <td>49335</td>\n",
       "    </tr>\n",
       "    <tr>\n",
       "      <th>1985-01-01</th>\n",
       "      <td>1985-01-01</td>\n",
       "      <td>50258</td>\n",
       "    </tr>\n",
       "    <tr>\n",
       "      <th>1986-01-01</th>\n",
       "      <td>1986-01-01</td>\n",
       "      <td>52068</td>\n",
       "    </tr>\n",
       "    <tr>\n",
       "      <th>1987-01-01</th>\n",
       "      <td>1987-01-01</td>\n",
       "      <td>52690</td>\n",
       "    </tr>\n",
       "    <tr>\n",
       "      <th>1988-01-01</th>\n",
       "      <td>1988-01-01</td>\n",
       "      <td>53124</td>\n",
       "    </tr>\n",
       "  </tbody>\n",
       "</table>\n",
       "</div>"
      ],
      "text/plain": [
       "                 DATE  MEHOINUSA672N\n",
       "DATE                                \n",
       "1984-01-01 1984-01-01          49335\n",
       "1985-01-01 1985-01-01          50258\n",
       "1986-01-01 1986-01-01          52068\n",
       "1987-01-01 1987-01-01          52690\n",
       "1988-01-01 1988-01-01          53124"
      ]
     },
     "execution_count": 87,
     "metadata": {},
     "output_type": "execute_result"
    }
   ],
   "source": [
    "rmi.head()"
   ]
  },
  {
   "cell_type": "code",
   "execution_count": 98,
   "metadata": {},
   "outputs": [
    {
     "data": {
      "text/plain": [
       "array([1984, 1985, 1986, 1987, 1988, 1989, 1990, 1991, 1992, 1993, 1994,\n",
       "       1995, 1996, 1997, 1998, 1999, 2000, 2001, 2002, 2003, 2004, 2005,\n",
       "       2006, 2007, 2008, 2009, 2010, 2011, 2012, 2013, 2014, 2015, 2016])"
      ]
     },
     "execution_count": 98,
     "metadata": {},
     "output_type": "execute_result"
    }
   ],
   "source": [
    "np.arange(1984,2017,1)"
   ]
  },
  {
   "cell_type": "code",
   "execution_count": 110,
   "metadata": {},
   "outputs": [
    {
     "data": {
      "image/png": "[encoded data removed]",
      "text/plain": [
       "<matplotlib.figure.Figure at 0x106c975c0>"
      ]
     },
     "metadata": {},
     "output_type": "display_data"
    }
   ],
   "source": [
    "\n",
    "plt.rcParams.update({'font.size': 22})\n",
    "fig = plt.figure()\n",
    "fig.set_size_inches(12, 6, forward = True)\n",
    "\n",
    "fig.suptitle('Real median income', fontsize=24, fontweight='bold')\n",
    "\n",
    "ax = fig.add_subplot(111)\n",
    "ax.plot(rmi.MEHOINUSA672N, linewidth=5.0)\n",
    "\n",
    "# ax.set_ylabel('$')\n",
    "\n",
    "# ax.set_xlabel('Year')\n",
    "# ax.set_ylabel('LFPR')\n",
    "# plt.yticks( [63,64,65,66], ('4%', '64%', '65%', '66%', ))\n",
    "ax.plot(rmi.index.max(), rmi.MEHOINUSA672N.max(), 'bo', markersize=12)\n",
    "ax.text('2010-05-01', 58500, '$59039')\n",
    "# ax.xaxis_date()\n",
    "# fig.autofmt_xdate()\n",
    "# plt.xticks( np.arange(1984,2017,1), ('4%', '64%', '65%', '66%', ))\n",
    "\n",
    "for label in ax.xaxis.get_ticklabels()[::2]:\n",
    "    label.set_visible(False)\n",
    "\n",
    "plt.show()\n",
    "fig.savefig('rmi.png', dpi=1000)"
   ]
  },
  {
   "cell_type": "code",
   "execution_count": null,
   "metadata": {},
   "outputs": [],
   "source": []
  },
  {
   "cell_type": "code",
   "execution_count": null,
   "metadata": {},
   "outputs": [],
   "source": []
  },
  {
   "cell_type": "code",
   "execution_count": null,
   "metadata": {},
   "outputs": [],
   "source": []
  },
  {
   "cell_type": "markdown",
   "metadata": {},
   "source": [
    "# LENGTH OF UE"
   ]
  },
  {
   "cell_type": "code",
   "execution_count": 44,
   "metadata": {},
   "outputs": [],
   "source": [
    "# ue_spell = pd.read_csv('../Desktop/LNS13008275.csv', sep = ',')\n",
    "ue_spell = bls_data([\"LNS13008275\"], 2006, 2017)\n",
    "ue_spell_df = format_dates(ue_spell)\n",
    "# https://fred.stlouisfed.org/series/LES1252881600Q\n",
    "# ue_spell['DATE'] = pd.to_datetime(ue_spell['DATE']) \n",
    "# ue_spell.set_index(ue_spell['DATE'], inplace = True)"
   ]
  },
  {
   "cell_type": "code",
   "execution_count": 45,
   "metadata": {},
   "outputs": [
    {
     "data": {
      "text/html": [
       "<div>\n",
       "<style scoped>\n",
       "    .dataframe tbody tr th:only-of-type {\n",
       "        vertical-align: middle;\n",
       "    }\n",
       "\n",
       "    .dataframe tbody tr th {\n",
       "        vertical-align: top;\n",
       "    }\n",
       "\n",
       "    .dataframe thead th {\n",
       "        text-align: right;\n",
       "    }\n",
       "</style>\n",
       "<table border=\"1\" class=\"dataframe\">\n",
       "  <thead>\n",
       "    <tr style=\"text-align: right;\">\n",
       "      <th></th>\n",
       "      <th>year</th>\n",
       "      <th>months</th>\n",
       "      <th>value</th>\n",
       "      <th>month</th>\n",
       "      <th>day</th>\n",
       "    </tr>\n",
       "    <tr>\n",
       "      <th>date</th>\n",
       "      <th></th>\n",
       "      <th></th>\n",
       "      <th></th>\n",
       "      <th></th>\n",
       "      <th></th>\n",
       "    </tr>\n",
       "  </thead>\n",
       "  <tbody>\n",
       "    <tr>\n",
       "      <th>2006-01-01</th>\n",
       "      <td>2006</td>\n",
       "      <td>M01</td>\n",
       "      <td>16.9</td>\n",
       "      <td>1</td>\n",
       "      <td>1</td>\n",
       "    </tr>\n",
       "    <tr>\n",
       "      <th>2006-02-01</th>\n",
       "      <td>2006</td>\n",
       "      <td>M02</td>\n",
       "      <td>17.8</td>\n",
       "      <td>2</td>\n",
       "      <td>1</td>\n",
       "    </tr>\n",
       "    <tr>\n",
       "      <th>2006-03-01</th>\n",
       "      <td>2006</td>\n",
       "      <td>M03</td>\n",
       "      <td>17.1</td>\n",
       "      <td>3</td>\n",
       "      <td>1</td>\n",
       "    </tr>\n",
       "    <tr>\n",
       "      <th>2006-04-01</th>\n",
       "      <td>2006</td>\n",
       "      <td>M04</td>\n",
       "      <td>16.7</td>\n",
       "      <td>4</td>\n",
       "      <td>1</td>\n",
       "    </tr>\n",
       "    <tr>\n",
       "      <th>2006-05-01</th>\n",
       "      <td>2006</td>\n",
       "      <td>M05</td>\n",
       "      <td>17.1</td>\n",
       "      <td>5</td>\n",
       "      <td>1</td>\n",
       "    </tr>\n",
       "  </tbody>\n",
       "</table>\n",
       "</div>"
      ],
      "text/plain": [
       "            year months value month  day\n",
       "date                                    \n",
       "2006-01-01  2006    M01  16.9     1    1\n",
       "2006-02-01  2006    M02  17.8     2    1\n",
       "2006-03-01  2006    M03  17.1     3    1\n",
       "2006-04-01  2006    M04  16.7     4    1\n",
       "2006-05-01  2006    M05  17.1     5    1"
      ]
     },
     "execution_count": 45,
     "metadata": {},
     "output_type": "execute_result"
    }
   ],
   "source": [
    "ue_spell_df.head()"
   ]
  },
  {
   "cell_type": "code",
   "execution_count": 55,
   "metadata": {},
   "outputs": [
    {
     "data": {
      "image/png": "[encoded data removed]",
      "text/plain": [
       "<matplotlib.figure.Figure at 0x11104a240>"
      ]
     },
     "metadata": {},
     "output_type": "display_data"
    }
   ],
   "source": [
    "\n",
    "plt.rcParams.update({'font.size': 22})\n",
    "fig = plt.figure()\n",
    "fig.set_size_inches(8, 10, forward = True)\n",
    "\n",
    "fig.suptitle('Average unemployment duration', fontsize=24, fontweight='bold')\n",
    "\n",
    "ax = fig.add_subplot(111)\n",
    "ax.plot(ue_spell_df.value, linewidth=5.0)\n",
    "\n",
    "ax.set_ylabel('Weeks')\n",
    "\n",
    "# ax.set_xlabel('Year')\n",
    "# ax.set_ylabel('LFPR')\n",
    "# plt.yticks( [63,64,65,66], ('4%', '64%', '65%', '66%', ))\n",
    "ax.plot(ue_spell_df[ue_spell_df.index == ue_spell_df.index.max()].index, ue_spell_df[ue_spell_df.index == ue_spell_df.index.max()]['value'], 'bo', markersize=12)\n",
    "ax.text('2016-05-01', 22, str(ue_spell_df[ue_spell_df.index == ue_spell_df.index.max()]['value'][0]))\n",
    "ax.xaxis_date()\n",
    "# fig.autofmt_xdate()\n",
    "\n",
    "\n",
    "plt.show()\n",
    "fig.savefig('ue_spell.png', dpi=1000)"
   ]
  },
  {
   "cell_type": "code",
   "execution_count": null,
   "metadata": {},
   "outputs": [],
   "source": []
  },
  {
   "cell_type": "code",
   "execution_count": null,
   "metadata": {},
   "outputs": [],
   "source": []
  },
  {
   "cell_type": "code",
   "execution_count": null,
   "metadata": {},
   "outputs": [],
   "source": []
  },
  {
   "cell_type": "code",
   "execution_count": null,
   "metadata": {},
   "outputs": [],
   "source": []
  },
  {
   "cell_type": "code",
   "execution_count": null,
   "metadata": {},
   "outputs": [],
   "source": []
  },
  {
   "cell_type": "code",
   "execution_count": null,
   "metadata": {},
   "outputs": [],
   "source": []
  },
  {
   "cell_type": "code",
   "execution_count": null,
   "metadata": {},
   "outputs": [],
   "source": []
  },
  {
   "cell_type": "code",
   "execution_count": null,
   "metadata": {},
   "outputs": [],
   "source": []
  },
  {
   "cell_type": "code",
   "execution_count": null,
   "metadata": {},
   "outputs": [],
   "source": []
  },
  {
   "cell_type": "code",
   "execution_count": 34,
   "metadata": {},
   "outputs": [
    {
     "data": {
      "text/plain": [
       "yearl      object\n",
       "monthsl    object\n",
       "valuel     object\n",
       "monthl     object\n",
       "dayl        int64\n",
       "year       object\n",
       "months     object\n",
       "value      object\n",
       "month      object\n",
       "day         int64\n",
       "dtype: object"
      ]
     },
     "execution_count": 34,
     "metadata": {},
     "output_type": "execute_result"
    }
   ],
   "source": [
    "merged_df.dtypes"
   ]
  },
  {
   "cell_type": "code",
   "execution_count": 25,
   "metadata": {},
   "outputs": [],
   "source": [
    "pop = bls_data([\"LNS10000000\"], 2007, 2017)\n",
    "pop_df = format_dates(pop)"
   ]
  },
  {
   "cell_type": "code",
   "execution_count": 26,
   "metadata": {},
   "outputs": [
    {
     "data": {
      "text/html": [
       "<div>\n",
       "<style scoped>\n",
       "    .dataframe tbody tr th:only-of-type {\n",
       "        vertical-align: middle;\n",
       "    }\n",
       "\n",
       "    .dataframe tbody tr th {\n",
       "        vertical-align: top;\n",
       "    }\n",
       "\n",
       "    .dataframe thead th {\n",
       "        text-align: right;\n",
       "    }\n",
       "</style>\n",
       "<table border=\"1\" class=\"dataframe\">\n",
       "  <thead>\n",
       "    <tr style=\"text-align: right;\">\n",
       "      <th></th>\n",
       "      <th>year</th>\n",
       "      <th>months</th>\n",
       "      <th>value</th>\n",
       "      <th>month</th>\n",
       "      <th>day</th>\n",
       "    </tr>\n",
       "    <tr>\n",
       "      <th>date</th>\n",
       "      <th></th>\n",
       "      <th></th>\n",
       "      <th></th>\n",
       "      <th></th>\n",
       "      <th></th>\n",
       "    </tr>\n",
       "  </thead>\n",
       "  <tbody>\n",
       "    <tr>\n",
       "      <th>2007-01-01</th>\n",
       "      <td>2007</td>\n",
       "      <td>M01</td>\n",
       "      <td>230650</td>\n",
       "      <td>1</td>\n",
       "      <td>1</td>\n",
       "    </tr>\n",
       "    <tr>\n",
       "      <th>2007-02-01</th>\n",
       "      <td>2007</td>\n",
       "      <td>M02</td>\n",
       "      <td>230834</td>\n",
       "      <td>2</td>\n",
       "      <td>1</td>\n",
       "    </tr>\n",
       "    <tr>\n",
       "      <th>2007-03-01</th>\n",
       "      <td>2007</td>\n",
       "      <td>M03</td>\n",
       "      <td>231034</td>\n",
       "      <td>3</td>\n",
       "      <td>1</td>\n",
       "    </tr>\n",
       "    <tr>\n",
       "      <th>2007-04-01</th>\n",
       "      <td>2007</td>\n",
       "      <td>M04</td>\n",
       "      <td>231253</td>\n",
       "      <td>4</td>\n",
       "      <td>1</td>\n",
       "    </tr>\n",
       "    <tr>\n",
       "      <th>2007-05-01</th>\n",
       "      <td>2007</td>\n",
       "      <td>M05</td>\n",
       "      <td>231480</td>\n",
       "      <td>5</td>\n",
       "      <td>1</td>\n",
       "    </tr>\n",
       "  </tbody>\n",
       "</table>\n",
       "</div>"
      ],
      "text/plain": [
       "            year months   value month  day\n",
       "date                                      \n",
       "2007-01-01  2007    M01  230650     1    1\n",
       "2007-02-01  2007    M02  230834     2    1\n",
       "2007-03-01  2007    M03  231034     3    1\n",
       "2007-04-01  2007    M04  231253     4    1\n",
       "2007-05-01  2007    M05  231480     5    1"
      ]
     },
     "execution_count": 26,
     "metadata": {},
     "output_type": "execute_result"
    }
   ],
   "source": [
    "pop_df.head()"
   ]
  },
  {
   "cell_type": "code",
   "execution_count": 14,
   "metadata": {},
   "outputs": [],
   "source": [
    "# education\n",
    "\n",
    "ed = pd.read_csv('Desktop/ed_perc' ,sep='\\t')\n",
    "ed.sort_values(by = 'year', ascending = True, inplace = True)\n",
    "ed.set_index('year', inplace = True)\n"
   ]
  },
  {
   "cell_type": "code",
   "execution_count": 15,
   "metadata": {},
   "outputs": [],
   "source": [
    "ed.replace(['(NA)'], np.nan, inplace = True)"
   ]
  },
  {
   "cell_type": "code",
   "execution_count": 16,
   "metadata": {},
   "outputs": [
    {
     "data": {
      "text/html": [
       "<div>\n",
       "<style scoped>\n",
       "    .dataframe tbody tr th:only-of-type {\n",
       "        vertical-align: middle;\n",
       "    }\n",
       "\n",
       "    .dataframe tbody tr th {\n",
       "        vertical-align: top;\n",
       "    }\n",
       "\n",
       "    .dataframe thead th {\n",
       "        text-align: right;\n",
       "    }\n",
       "</style>\n",
       "<table border=\"1\" class=\"dataframe\">\n",
       "  <thead>\n",
       "    <tr style=\"text-align: right;\">\n",
       "      <th></th>\n",
       "      <th>Total</th>\n",
       "      <th>Aallracesmale</th>\n",
       "      <th>allracesfemale</th>\n",
       "      <th>whitetotal</th>\n",
       "      <th>whitemale</th>\n",
       "      <th>whitefemale</th>\n",
       "      <th>TNHW</th>\n",
       "      <th>TNHWM</th>\n",
       "      <th>TNHWF</th>\n",
       "      <th>black_total</th>\n",
       "      <th>...</th>\n",
       "      <th>Female</th>\n",
       "      <th>Total.2</th>\n",
       "      <th>Male.1</th>\n",
       "      <th>Female.1</th>\n",
       "      <th>Total.3</th>\n",
       "      <th>Male.2</th>\n",
       "      <th>Female.2</th>\n",
       "      <th>Total.4</th>\n",
       "      <th>Male.3</th>\n",
       "      <th>Female.3</th>\n",
       "    </tr>\n",
       "    <tr>\n",
       "      <th>year</th>\n",
       "      <th></th>\n",
       "      <th></th>\n",
       "      <th></th>\n",
       "      <th></th>\n",
       "      <th></th>\n",
       "      <th></th>\n",
       "      <th></th>\n",
       "      <th></th>\n",
       "      <th></th>\n",
       "      <th></th>\n",
       "      <th></th>\n",
       "      <th></th>\n",
       "      <th></th>\n",
       "      <th></th>\n",
       "      <th></th>\n",
       "      <th></th>\n",
       "      <th></th>\n",
       "      <th></th>\n",
       "      <th></th>\n",
       "      <th></th>\n",
       "      <th></th>\n",
       "    </tr>\n",
       "  </thead>\n",
       "  <tbody>\n",
       "    <tr>\n",
       "      <th>1940</th>\n",
       "      <td>4.6</td>\n",
       "      <td>5.5</td>\n",
       "      <td>3.8</td>\n",
       "      <td>4.9</td>\n",
       "      <td>5.9</td>\n",
       "      <td>4.0</td>\n",
       "      <td>NaN</td>\n",
       "      <td>NaN</td>\n",
       "      <td>NaN</td>\n",
       "      <td>1.3</td>\n",
       "      <td>...</td>\n",
       "      <td>NaN</td>\n",
       "      <td>NaN</td>\n",
       "      <td>NaN</td>\n",
       "      <td>NaN</td>\n",
       "      <td>NaN</td>\n",
       "      <td>NaN</td>\n",
       "      <td>NaN</td>\n",
       "      <td>NaN</td>\n",
       "      <td>NaN</td>\n",
       "      <td>NaN</td>\n",
       "    </tr>\n",
       "  </tbody>\n",
       "</table>\n",
       "<p>1 rows × 30 columns</p>\n",
       "</div>"
      ],
      "text/plain": [
       "      Total  Aallracesmale  allracesfemale whitetotal whitemale whitefemale  \\\n",
       "year                                                                          \n",
       "1940    4.6            5.5             3.8        4.9       5.9         4.0   \n",
       "\n",
       "     TNHW TNHWM TNHWF  black_total   ...     Female  Total.2 Male.1 Female.1  \\\n",
       "year                                 ...                                       \n",
       "1940  NaN   NaN   NaN          1.3   ...        NaN      NaN    NaN      NaN   \n",
       "\n",
       "     Total.3 Male.2 Female.2 Total.4 Male.3 Female.3  \n",
       "year                                                  \n",
       "1940     NaN    NaN      NaN     NaN    NaN      NaN  \n",
       "\n",
       "[1 rows x 30 columns]"
      ]
     },
     "execution_count": 16,
     "metadata": {},
     "output_type": "execute_result"
    }
   ],
   "source": [
    "ed.head(1)"
   ]
  },
  {
   "cell_type": "code",
   "execution_count": 17,
   "metadata": {},
   "outputs": [
    {
     "data": {
      "image/png": "[encoded data removed]",
      "text/plain": [
       "<matplotlib.figure.Figure at 0x142c44358>"
      ]
     },
     "metadata": {},
     "output_type": "display_data"
    }
   ],
   "source": [
    "fig1 = plt.figure()\n",
    "# fig.set_size_inches(12, 6, forward = True)\n",
    "# plt.figure(figsize=(50,50))\n",
    "\n",
    "fig1.suptitle('Percent of People 25 Years and Over Who Have Completed 4 Years of College or more', fontsize=14, fontweight='bold')\n",
    "\n",
    "ax1 = fig1.add_subplot(111)\n",
    "\n",
    "ax1.plot(ed['Total'])\n",
    "ax1.set_xlim([2007,2017])\n",
    "ax1.set_ylim([25,35])\n",
    "\n",
    "ax1.set_ylabel('Percent of (Noninstitutionalized population)')\n",
    "ax1.set_xlabel('Year')\n",
    "\n",
    "\n",
    "# plt.set_xlim(2010, 2017)\n",
    "plt.show()"
   ]
  },
  {
   "cell_type": "code",
   "execution_count": 20,
   "metadata": {},
   "outputs": [
    {
     "data": {
      "image/png": "[encoded data removed]",
      "text/plain": [
       "<matplotlib.figure.Figure at 0x10fbc1828>"
      ]
     },
     "metadata": {},
     "output_type": "display_data"
    }
   ],
   "source": [
    "fig2 = plt.figure()\n",
    "fig2.set_size_inches(8, 6, forward = True)\n",
    "# plt.figure(figsize=(100,100))\n",
    "\n",
    "fig2.suptitle('Percent of People 25 Years and Over Who Have Completed 4 Years of College or more', fontsize=14, fontweight='bold')\n",
    "\n",
    "ax2 = fig2.add_subplot(111)\n",
    "\n",
    "ax2.plot(ed['whitefemale'])\n",
    "ax2.plot(ed['whitemale'])\n",
    "\n",
    "ax2.plot(ed['black_male'])\n",
    "ax2.plot(ed['black_female'])\n",
    "\n",
    "ax2.plot(ed['hispanic_male'])\n",
    "ax2.plot(ed['hispanic_female'])\n",
    "\n",
    "ax2.plot(ed['Total'])\n",
    "plt.legend(['White Female', 'White Male', 'Black Male',  'Black Female', 'Hispanic Male' , 'Hispanic Male', 'Total'], loc='upper left')\n",
    "\n",
    "\n",
    "ax2.set_xlim([2007,2017])\n",
    "ax2.set_ylim([10,35])\n",
    "\n",
    "ax2.set_ylabel('Percent of (Noninstitutionalized population)')\n",
    "ax2.set_xlabel('Year')\n",
    "\n",
    "\n",
    "# plt.set_xlim(2010, 2017)\n",
    "plt.show()\n",
    "fig2.savefig('educpng.png', dpi=300)"
   ]
  },
  {
   "cell_type": "code",
   "execution_count": null,
   "metadata": {},
   "outputs": [],
   "source": []
  },
  {
   "cell_type": "code",
   "execution_count": null,
   "metadata": {},
   "outputs": [],
   "source": []
  },
  {
   "cell_type": "code",
   "execution_count": 93,
   "metadata": {},
   "outputs": [
    {
     "name": "stdout",
     "output_type": "stream",
     "text": [
      "\u001b[34mApplications\u001b[m\u001b[m/              derby.log\r\n",
      "CUUR0000SA0.txt            \u001b[34mfirst-webapp-react\u001b[m\u001b[m/\r\n",
      "\u001b[34mDesktop\u001b[m\u001b[m/                   \u001b[34mgalvanize\u001b[m\u001b[m/\r\n",
      "\u001b[34mDocuments\u001b[m\u001b[m/                 helloworld.txt\r\n",
      "\u001b[34mDownloads\u001b[m\u001b[m/                 \u001b[34mjob apps\u001b[m\u001b[m/\r\n",
      "\u001b[34mLibrary\u001b[m\u001b[m/                   mbox\r\n",
      "\u001b[34mMovies\u001b[m\u001b[m/                    \u001b[34mmetastore_db\u001b[m\u001b[m/\r\n",
      "\u001b[34mMusic\u001b[m\u001b[m/                     \u001b[34mmolly\u001b[m\u001b[m/\r\n",
      "\u001b[34mPictures\u001b[m\u001b[m/                  molly.zip\r\n",
      "\u001b[34mPublic\u001b[m\u001b[m/                    \u001b[34mnimble\u001b[m\u001b[m/\r\n",
      "SUUR0000SA0.txt            \u001b[34mnltk_data\u001b[m\u001b[m/\r\n",
      "\u001b[34mZotero\u001b[m\u001b[m/                    \u001b[34mruna\u001b[m\u001b[m/\r\n",
      "\u001b[34mall_nimble\u001b[m\u001b[m/                \u001b[34mspark-2.2.1-bin-hadoop2.7\u001b[m\u001b[m/\r\n",
      "\u001b[34manaconda\u001b[m\u001b[m/                  \u001b[34mtest\u001b[m\u001b[m/\r\n",
      "bls graphing.ipynb         test.py\r\n",
      "\u001b[34mcomposetest\u001b[m\u001b[m/               \u001b[34mwnowak10.github.io\u001b[m\u001b[m/\r\n",
      "\u001b[34mdata\u001b[m\u001b[m/                      \u001b[34mxgboost\u001b[m\u001b[m/\r\n",
      "\u001b[34mdata_science_learning\u001b[m\u001b[m/\r\n"
     ]
    }
   ],
   "source": [
    "ls"
   ]
  },
  {
   "cell_type": "code",
   "execution_count": 99,
   "metadata": {},
   "outputs": [],
   "source": [
    "stateue = pd.read_csv('Desktop/stateue.tsv',sep='\\t')"
   ]
  },
  {
   "cell_type": "code",
   "execution_count": 102,
   "metadata": {},
   "outputs": [
    {
     "data": {
      "image/png": "[encoded data removed]",
      "text/plain": [
       "<matplotlib.figure.Figure at 0x112066278>"
      ]
     },
     "metadata": {},
     "output_type": "display_data"
    }
   ],
   "source": [
    "import seaborn as sns\n",
    "sns.distplot(stateue['ue'])\n",
    "plt.show()"
   ]
  },
  {
   "cell_type": "code",
   "execution_count": null,
   "metadata": {},
   "outputs": [],
   "source": []
  },
  {
   "cell_type": "code",
   "execution_count": null,
   "metadata": {},
   "outputs": [],
   "source": []
  },
  {
   "cell_type": "code",
   "execution_count": null,
   "metadata": {},
   "outputs": [],
   "source": []
  },
  {
   "cell_type": "code",
   "execution_count": null,
   "metadata": {},
   "outputs": [],
   "source": [
    "fig = plt.figure()\n",
    "fig.suptitle('Employment over time', fontsize=14, fontweight='bold')\n",
    "\n",
    "ax = fig.add_subplot(111)\n",
    "\n",
    "ax.plot(lns['value'])\n",
    "# ax.set_xlabel('Time')\n",
    "# ax.set_ylabel('Employees in thousands')\n",
    "plt.show()"
   ]
  },
  {
   "cell_type": "code",
   "execution_count": null,
   "metadata": {},
   "outputs": [],
   "source": [
    "lns"
   ]
  },
  {
   "cell_type": "code",
   "execution_count": null,
   "metadata": {},
   "outputs": [],
   "source": []
  },
  {
   "cell_type": "code",
   "execution_count": null,
   "metadata": {},
   "outputs": [],
   "source": []
  },
  {
   "cell_type": "code",
   "execution_count": null,
   "metadata": {},
   "outputs": [],
   "source": []
  },
  {
   "cell_type": "code",
   "execution_count": null,
   "metadata": {},
   "outputs": [],
   "source": []
  },
  {
   "cell_type": "code",
   "execution_count": null,
   "metadata": {},
   "outputs": [],
   "source": []
  },
  {
   "cell_type": "code",
   "execution_count": null,
   "metadata": {},
   "outputs": [],
   "source": []
  },
  {
   "cell_type": "code",
   "execution_count": null,
   "metadata": {},
   "outputs": [],
   "source": []
  },
  {
   "cell_type": "code",
   "execution_count": null,
   "metadata": {},
   "outputs": [],
   "source": []
  },
  {
   "cell_type": "code",
   "execution_count": null,
   "metadata": {},
   "outputs": [],
   "source": [
    "json_data['Results']['series']"
   ]
  },
  {
   "cell_type": "code",
   "execution_count": null,
   "metadata": {},
   "outputs": [],
   "source": [
    "import requests\n",
    "import json\n",
    "# import prettytable\n",
    "values = []\n",
    "years = []\n",
    "months = []\n",
    "headers = {'Content-type': 'application/json'}\n",
    "series_id = ['CEU0000000001']\n",
    "key = \"4a0987d92b974131813039c3ca751276\"\n",
    "data = json.dumps({\"seriesid\": series_id,\"startyear\":\"2008\", \"endyear\":\"2017\",'registrationkey': key})\n",
    "print(data)\n",
    "p = requests.post('https://api.bls.gov/publicAPI/v2/timeseries/data/', data=data, headers=headers)\n",
    "json_data = json.loads(p.text)\n",
    "for series in json_data['Results']['series']:\n",
    "#     x=prettytable.PrettyTable([\"series id\",\"year\",\"period\",\"value\",\"footnotes\"])\n",
    "#     seriesId = series['seriesID']\n",
    "    for item in series['data']:\n",
    "        year = item['year']\n",
    "        years.append(year)\n",
    "        period = item['period']\n",
    "        months.append(period)\n",
    "        value = item['value']\n",
    "        values.append(value)\n",
    "#         footnotes=\"\"\n",
    "#         for footnote in item['footnotes']:\n",
    "#             if footnote:\n",
    "#                 footnotes = footnotes + footnote['text'] + ','\n",
    "#             if 'M01' <= period <= 'M12':\n",
    "#                 x.add_row([seriesId,year,period,value,footnotes[0:-1]])\n",
    "#     output = open(seriesId + '.txt','w')\n",
    "#     output.write (x.get_string())\n",
    "#     output.close()\n"
   ]
  },
  {
   "cell_type": "code",
   "execution_count": null,
   "metadata": {},
   "outputs": [],
   "source": [
    "di = {'year': years, 'months': months, 'values': values}"
   ]
  },
  {
   "cell_type": "code",
   "execution_count": null,
   "metadata": {},
   "outputs": [],
   "source": [
    "df = pd.DataFrame(di)"
   ]
  },
  {
   "cell_type": "code",
   "execution_count": null,
   "metadata": {},
   "outputs": [],
   "source": [
    "df.head()"
   ]
  },
  {
   "cell_type": "code",
   "execution_count": null,
   "metadata": {},
   "outputs": [],
   "source": [
    "ddf['month']= np.where(\n",
    "                ddf['months'] == 'M01', 1,\n",
    "                    np.where(ddf['months'] == 'M02', 2,\n",
    "                    np.where(ddf['months'] == 'M03', 3, \n",
    "                    np.where(ddf['months'] == 'M04', 4, \n",
    "                    np.where(ddf['months'] == 'M05', 5, \n",
    "                    np.where(ddf['months'] == 'M06', 6, \n",
    "                    np.where(ddf['months'] == 'M07', 7, \n",
    "                    np.where(ddf['months'] == 'M08', 8,\n",
    "                    np.where(ddf['months'] == 'M09', 9, \n",
    "                    np.where(ddf['months'] == 'M10', 10, \n",
    "                    np.where(ddf['months'] == 'M11', 11,\n",
    "                    np.where(ddf['months'] == 'M12', 12, 'hi'                            \n",
    "                          ))))))))))))\n",
    "ddf['day'] = 1"
   ]
  },
  {
   "cell_type": "code",
   "execution_count": null,
   "metadata": {},
   "outputs": [],
   "source": [
    "df['date'] = pd.to_datetime(ddf[['year', 'month','day']])"
   ]
  },
  {
   "cell_type": "code",
   "execution_count": null,
   "metadata": {},
   "outputs": [],
   "source": [
    "df.head()"
   ]
  },
  {
   "cell_type": "code",
   "execution_count": null,
   "metadata": {},
   "outputs": [],
   "source": [
    "fig = plt.figure()\n",
    "fig.suptitle('Employment over time', fontsize=14, fontweight='bold')\n",
    "\n",
    "ax = fig.add_subplot(111)\n",
    "\n",
    "ax.plot(df['values'])\n",
    "ax.set_xlabel('Time')\n",
    "ax.set_ylabel('Employees in thousands')\n",
    "plt.show()"
   ]
  },
  {
   "cell_type": "code",
   "execution_count": null,
   "metadata": {},
   "outputs": [],
   "source": [
    "# sns.tsplot(df, time = \"data\", value = \"values\")"
   ]
  },
  {
   "cell_type": "code",
   "execution_count": null,
   "metadata": {},
   "outputs": [],
   "source": [
    "LNS14000000"
   ]
  },
  {
   "cell_type": "code",
   "execution_count": null,
   "metadata": {},
   "outputs": [],
   "source": [
    "df"
   ]
  },
  {
   "cell_type": "code",
   "execution_count": null,
   "metadata": {},
   "outputs": [],
   "source": [
    "pd.read_txt('CUUR0000SA0.txt')"
   ]
  },
  {
   "cell_type": "code",
   "execution_count": null,
   "metadata": {},
   "outputs": [],
   "source": [
    "values = []\n",
    "years = []\n",
    "months = []\n",
    "headers = {'Content-type': 'application/json'}\n",
    "series_id = ['LNS14000000']\n",
    "key = \"4a0987d92b974131813039c3ca751276\"\n",
    "data = json.dumps({\"seriesid\": series_id,\"startyear\":\"2007\", \"endyear\":\"2017\",'registrationkey': key})\n",
    "\n",
    "p = requests.post('https://api.bls.gov/publicAPI/v2/timeseries/data/', data=data, headers=headers)\n",
    "json_data = json.loads(p.text)\n",
    "for series in json_data['Results']['series']:\n",
    "#     x=prettytable.PrettyTable([\"series id\",\"year\",\"period\",\"value\",\"footnotes\"])\n",
    "#     seriesId = series['seriesID']\n",
    "    for item in series['data']:\n",
    "        year = item['year']\n",
    "        years.append(year)\n",
    "        period = item['period']\n",
    "        months.append(period)\n",
    "        value = item['value']\n",
    "        values.append(value)\n",
    "di = {'year': years, 'months': months, 'values': values}\n",
    "df = pd.DataFrame(di)\n",
    "ddf['month']= np.where(\n",
    "                ddf['months'] == 'M01', 1,\n",
    "                    np.where(ddf['months'] == 'M02', 2,\n",
    "                    np.where(ddf['months'] == 'M03', 3, \n",
    "                    np.where(ddf['months'] == 'M04', 4, \n",
    "                    np.where(ddf['months'] == 'M05', 5, \n",
    "                    np.where(ddf['months'] == 'M06', 6, \n",
    "                    np.where(ddf['months'] == 'M07', 7, \n",
    "                    np.where(ddf['months'] == 'M08', 8,\n",
    "                    np.where(ddf['months'] == 'M09', 9, \n",
    "                    np.where(ddf['months'] == 'M10', 10, \n",
    "                    np.where(ddf['months'] == 'M11', 11,\n",
    "                    np.where(ddf['months'] == 'M12', 12, 'hi'                            \n",
    "                          ))))))))))))\n",
    "ddf['day'] = 1\n",
    "df['date'] = pd.to_datetime(ddf[['year', 'month','day']])\n",
    "df.sort_values(by = 'date', inplace = True)"
   ]
  },
  {
   "cell_type": "code",
   "execution_count": null,
   "metadata": {},
   "outputs": [],
   "source": [
    "fig = plt.figure()\n",
    "fig.suptitle('Employment over time', fontsize=14, fontweight='bold')\n",
    "\n",
    "ax = fig.add_subplot(111)\n",
    "\n",
    "ax.plot(df['values'])\n",
    "ax.set_xlabel('Time')\n",
    "ax.set_ylabel('Employees in thousands')\n",
    "plt.show()"
   ]
  },
  {
   "cell_type": "code",
   "execution_count": null,
   "metadata": {},
   "outputs": [],
   "source": [
    "df.head(50)"
   ]
  },
  {
   "cell_type": "code",
   "execution_count": null,
   "metadata": {},
   "outputs": [],
   "source": []
  },
  {
   "cell_type": "code",
   "execution_count": null,
   "metadata": {},
   "outputs": [],
   "source": []
  },
  {
   "cell_type": "code",
   "execution_count": null,
   "metadata": {},
   "outputs": [],
   "source": [
    "# import requests\n",
    "# import json\n",
    "# import prettytable\n",
    "# headers = {'Content-type': 'application/json'}\n",
    "# data = json.dumps({\"seriesid\": ['CUUR0000SA0','SUUR0000SA0'],\"startyear\":\"2011\", \"endyear\":\"2014\"})"
   ]
  },
  {
   "cell_type": "code",
   "execution_count": null,
   "metadata": {},
   "outputs": [],
   "source": [
    "# data"
   ]
  },
  {
   "cell_type": "code",
   "execution_count": null,
   "metadata": {},
   "outputs": [],
   "source": [
    "# p = requests.post('https://api.bls.gov/publicAPI/v2/timeseries/data/', data=data, headers=headers)"
   ]
  },
  {
   "cell_type": "code",
   "execution_count": null,
   "metadata": {},
   "outputs": [],
   "source": [
    "# p.json()"
   ]
  },
  {
   "cell_type": "code",
   "execution_count": null,
   "metadata": {},
   "outputs": [],
   "source": [
    "import requests"
   ]
  },
  {
   "cell_type": "code",
   "execution_count": null,
   "metadata": {},
   "outputs": [],
   "source": [
    "key = \"4a0987d92b974131813039c3ca751276\""
   ]
  },
  {
   "cell_type": "code",
   "execution_count": null,
   "metadata": {},
   "outputs": [],
   "source": [
    "BASE_URL = \"https://api.bls.gov/publicAPI/v2/timeseries/data/\""
   ]
  },
  {
   "cell_type": "code",
   "execution_count": null,
   "metadata": {},
   "outputs": [],
   "source": [
    "data = {'registrationkey': key, 'seriesid': 'CEU0800000001', 'startyear': 2008, 'endyear':2017}"
   ]
  },
  {
   "cell_type": "code",
   "execution_count": null,
   "metadata": {},
   "outputs": [],
   "source": [
    "d = requests.post(BASE_URL, data=data).json()[\"Results\"]"
   ]
  },
  {
   "cell_type": "code",
   "execution_count": null,
   "metadata": {},
   "outputs": [],
   "source": [
    "d['series'][0]['data']"
   ]
  },
  {
   "cell_type": "code",
   "execution_count": null,
   "metadata": {},
   "outputs": [],
   "source": []
  },
  {
   "cell_type": "code",
   "execution_count": null,
   "metadata": {},
   "outputs": [],
   "source": []
  },
  {
   "cell_type": "code",
   "execution_count": null,
   "metadata": {},
   "outputs": [],
   "source": []
  },
  {
   "cell_type": "code",
   "execution_count": null,
   "metadata": {},
   "outputs": [],
   "source": [
    "x = str(d['series'][0]['data'])"
   ]
  },
  {
   "cell_type": "code",
   "execution_count": null,
   "metadata": {},
   "outputs": [],
   "source": [
    "requests.post(BASE_URL, data=data).json()[\"Results\"]"
   ]
  },
  {
   "cell_type": "code",
   "execution_count": null,
   "metadata": {},
   "outputs": [],
   "source": [
    "data = {'seriesid': 'CEU0800000003', 'startyear': 2000, 'endyear':2015}"
   ]
  },
  {
   "cell_type": "code",
   "execution_count": null,
   "metadata": {},
   "outputs": [],
   "source": [
    "# x = json.loads(str(d))"
   ]
  },
  {
   "cell_type": "code",
   "execution_count": null,
   "metadata": {},
   "outputs": [],
   "source": [
    "x = json.loads(x)\n"
   ]
  },
  {
   "cell_type": "code",
   "execution_count": null,
   "metadata": {},
   "outputs": [],
   "source": [
    "\n",
    "# f = csv.writer(open(\"test.csv\", \"wb+\"))\n",
    "\n",
    "# # Write CSV Header, If you dont need that, remove this line\n",
    "# f.writerow([\"year\"]) #, \"model\", \"codename\", \"name\", \"content_type\"])\n",
    "\n",
    "# for x in x:\n",
    "#     f.writerow([x['year']])#,\n",
    "#                 x[\"model\"],\n",
    "#                 x[\"fields\"][\"codename\"],\n",
    "#                 x[\"fields\"][\"name\"],\n",
    "#                 x[\"fields\"][\"content_type\"]])"
   ]
  },
  {
   "cell_type": "code",
   "execution_count": null,
   "metadata": {},
   "outputs": [],
   "source": [
    "x"
   ]
  },
  {
   "cell_type": "code",
   "execution_count": null,
   "metadata": {},
   "outputs": [],
   "source": []
  },
  {
   "cell_type": "code",
   "execution_count": null,
   "metadata": {},
   "outputs": [],
   "source": []
  },
  {
   "cell_type": "code",
   "execution_count": null,
   "metadata": {},
   "outputs": [],
   "source": []
  },
  {
   "cell_type": "code",
   "execution_count": null,
   "metadata": {},
   "outputs": [],
   "source": []
  },
  {
   "cell_type": "code",
   "execution_count": null,
   "metadata": {},
   "outputs": [],
   "source": []
  },
  {
   "cell_type": "code",
   "execution_count": null,
   "metadata": {},
   "outputs": [],
   "source": []
  },
  {
   "cell_type": "code",
   "execution_count": null,
   "metadata": {},
   "outputs": [],
   "source": []
  },
  {
   "cell_type": "code",
   "execution_count": null,
   "metadata": {},
   "outputs": [],
   "source": []
  },
  {
   "cell_type": "code",
   "execution_count": null,
   "metadata": {},
   "outputs": [],
   "source": [
    "import pandas as pd\n",
    "import matplotlib.pyplot as plt\n"
   ]
  },
  {
   "cell_type": "code",
   "execution_count": null,
   "metadata": {},
   "outputs": [],
   "source": [
    "from bls import get_series"
   ]
  },
  {
   "cell_type": "code",
   "execution_count": null,
   "metadata": {},
   "outputs": [],
   "source": [
    "get_series('CEU0000000001', 2000, 2017)"
   ]
  },
  {
   "cell_type": "code",
   "execution_count": null,
   "metadata": {},
   "outputs": [],
   "source": [
    "df = pd.DataFrame(get_series('CEU0000000001', 2000, 2017))"
   ]
  },
  {
   "cell_type": "code",
   "execution_count": null,
   "metadata": {},
   "outputs": [],
   "source": [
    "get_series('CEU0800000002', 2000, 2017)"
   ]
  },
  {
   "cell_type": "code",
   "execution_count": null,
   "metadata": {},
   "outputs": [],
   "source": [
    "df['CEU0000000002'] = pd.Series(get_series('CEU0000000002', 2000, 2017))"
   ]
  },
  {
   "cell_type": "code",
   "execution_count": null,
   "metadata": {},
   "outputs": [],
   "source": [
    "df.head()"
   ]
  },
  {
   "cell_type": "code",
   "execution_count": null,
   "metadata": {},
   "outputs": [],
   "source": [
    "df = df.reset_index()"
   ]
  },
  {
   "cell_type": "code",
   "execution_count": null,
   "metadata": {},
   "outputs": [],
   "source": [
    "plt.plot(df.CEU0000000001)\n",
    "plt.plot(df.CEU0000000002)\n",
    "plt.show()"
   ]
  },
  {
   "cell_type": "code",
   "execution_count": null,
   "metadata": {},
   "outputs": [],
   "source": [
    "df.head()"
   ]
  },
  {
   "cell_type": "code",
   "execution_count": null,
   "metadata": {},
   "outputs": [],
   "source": [
    "df['index']"
   ]
  },
  {
   "cell_type": "code",
   "execution_count": null,
   "metadata": {},
   "outputs": [],
   "source": [
    "import seaborn as sns"
   ]
  },
  {
   "cell_type": "code",
   "execution_count": null,
   "metadata": {},
   "outputs": [],
   "source": [
    "sns.tsplot(time='index', value = 'CEU0000000001', data=df)"
   ]
  },
  {
   "cell_type": "code",
   "execution_count": null,
   "metadata": {},
   "outputs": [],
   "source": [
    "plt.show()"
   ]
  },
  {
   "cell_type": "code",
   "execution_count": null,
   "metadata": {},
   "outputs": [],
   "source": [
    "pd.to_datetime(df.index)"
   ]
  },
  {
   "cell_type": "code",
   "execution_count": null,
   "metadata": {},
   "outputs": [],
   "source": [
    "df.head()"
   ]
  },
  {
   "cell_type": "code",
   "execution_count": null,
   "metadata": {},
   "outputs": [],
   "source": [
    "sns.tsplot(time='index', value = 'CEU0000000001', data=df)\n",
    "plt.show()"
   ]
  },
  {
   "cell_type": "code",
   "execution_count": null,
   "metadata": {},
   "outputs": [],
   "source": []
  }
 ],
 "metadata": {
  "kernelspec": {
   "display_name": "Python 3",
   "language": "python",
   "name": "python3"
  },
  "language_info": {
   "codemirror_mode": {
    "name": "ipython",
    "version": 3
   },
   "file_extension": ".py",
   "mimetype": "text/x-python",
   "name": "python",
   "nbconvert_exporter": "python",
   "pygments_lexer": "ipython3",
   "version": "3.6.1"
  }
 },
 "nbformat": 4,
 "nbformat_minor": 2
}
