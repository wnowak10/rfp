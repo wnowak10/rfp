{
 "cells": [
  {
   "cell_type": "code",
   "execution_count": 1,
   "metadata": {},
   "outputs": [],
   "source": [
    "# call: https://api.stlouisfed.org/fred/series?series_id=GNPCA&api_key=abcdefghijklmnopqrstuvwxyz123456\n",
    "key = '85ed6b77b65e138008e90dd8aab30202'"
   ]
  },
  {
   "cell_type": "code",
   "execution_count": 2,
   "metadata": {},
   "outputs": [],
   "source": [
    "import requests"
   ]
  },
  {
   "cell_type": "code",
   "execution_count": 49,
   "metadata": {},
   "outputs": [],
   "source": [
    "start = \"2000-12-11\"\n",
    "end = \"2010-01-11\"\n",
    "series_id = \"MPU4910063\""
   ]
  },
  {
   "cell_type": "code",
   "execution_count": 50,
   "metadata": {},
   "outputs": [],
   "source": [
    "url = \"https://api.stlouisfed.org/fred/series?series_id=\"+series_id+\"&api_key=\"+key"
   ]
  },
  {
   "cell_type": "code",
   "execution_count": 51,
   "metadata": {},
   "outputs": [
    {
     "data": {
      "text/plain": [
       "'https://api.stlouisfed.org/fred/series?series_id=MPU4910063&api_key=85ed6b77b65e138008e90dd8aab30202'"
      ]
     },
     "execution_count": 51,
     "metadata": {},
     "output_type": "execute_result"
    }
   ],
   "source": [
    "url"
   ]
  },
  {
   "cell_type": "code",
   "execution_count": 52,
   "metadata": {},
   "outputs": [],
   "source": [
    "d= requests.get(url)"
   ]
  },
  {
   "cell_type": "code",
   "execution_count": 53,
   "metadata": {},
   "outputs": [],
   "source": [
    "import json"
   ]
  },
  {
   "cell_type": "code",
   "execution_count": 54,
   "metadata": {},
   "outputs": [
    {
     "data": {
      "text/plain": [
       "'<?xml version=\"1.0\" encoding=\"utf-8\" ?>\\n<seriess realtime_start=\"2018-01-24\" realtime_end=\"2018-01-24\">\\n  <series id=\"MPU4910063\" realtime_start=\"2018-01-24\" realtime_end=\"2018-01-24\" title=\"Private Non-Farm Business Sector: Labor Productivity\" observation_start=\"1988-01-01\" observation_end=\"2016-01-01\" frequency=\"Annual\" frequency_short=\"A\" units=\"Percent Change from Year Ago\" units_short=\"% Chg. from Yr. Ago\" seasonal_adjustment=\"Not Seasonally Adjusted\" seasonal_adjustment_short=\"NSA\" last_updated=\"2017-07-19 16:11:01-05\" popularity=\"60\" notes=\"The efficiency at which labor hours are utilized in producing output of goods and services, measured as output per hour of labor. \\n\\n For more information, please go to http://www.bls.gov/mfp/\\n\\n Source Indicator: MPU4910063\"/>\\n</seriess>\\n'"
      ]
     },
     "execution_count": 54,
     "metadata": {},
     "output_type": "execute_result"
    }
   ],
   "source": [
    "d.text"
   ]
  },
  {
   "cell_type": "code",
   "execution_count": null,
   "metadata": {},
   "outputs": [],
   "source": []
  }
 ],
 "metadata": {
  "kernelspec": {
   "display_name": "Python 3",
   "language": "python",
   "name": "python3"
  },
  "language_info": {
   "codemirror_mode": {
    "name": "ipython",
    "version": 3
   },
   "file_extension": ".py",
   "mimetype": "text/x-python",
   "name": "python",
   "nbconvert_exporter": "python",
   "pygments_lexer": "ipython3",
   "version": "3.6.1"
  }
 },
 "nbformat": 4,
 "nbformat_minor": 2
}
